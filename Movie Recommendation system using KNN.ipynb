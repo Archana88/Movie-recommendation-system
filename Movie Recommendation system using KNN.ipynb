{
 "cells": [
  {
   "cell_type": "markdown",
   "metadata": {
    "collapsed": true
   },
   "source": [
    "# Movie Recommendation using KNN\n",
    "\n",
    "We will learn to build a recommendation system using KNN using MovieLens Dataset. \n",
    "\n",
    "u.data: (100000 ratings, 943 users, 1682 items): user id, item id, rating, timestamp.\n",
    "\n",
    "u.item: (information about the items (movies)): movie id, movie title, release date, video release date, IMDb URL, unknown,  Action, Adventure, Animation, Children's, Comedy, Crime,  Documentary, Drama, Fantasy, Film-Noir, Horror, Musical, Mystery,  Romance, Sci-Fi, Thriller, War, Western.\n",
    "\n",
    "Last 19 fields are the generes. 1 - indicates movie of that genre, 0 - indicates it is not. Movies can be of multiple Generes.\n",
    "Movie IDs are the same used in u.data dataset.\n",
    "\n",
    "## Loading data"
   ]
  },
  {
   "cell_type": "code",
   "execution_count": 4,
   "metadata": {},
   "outputs": [
    {
     "data": {
      "text/html": [
       "<div>\n",
       "<style>\n",
       "    .dataframe thead tr:only-child th {\n",
       "        text-align: right;\n",
       "    }\n",
       "\n",
       "    .dataframe thead th {\n",
       "        text-align: left;\n",
       "    }\n",
       "\n",
       "    .dataframe tbody tr th {\n",
       "        vertical-align: top;\n",
       "    }\n",
       "</style>\n",
       "<table border=\"1\" class=\"dataframe\">\n",
       "  <thead>\n",
       "    <tr style=\"text-align: right;\">\n",
       "      <th></th>\n",
       "      <th>user_id</th>\n",
       "      <th>movie_id</th>\n",
       "      <th>rating</th>\n",
       "    </tr>\n",
       "  </thead>\n",
       "  <tbody>\n",
       "    <tr>\n",
       "      <th>0</th>\n",
       "      <td>0</td>\n",
       "      <td>50</td>\n",
       "      <td>5</td>\n",
       "    </tr>\n",
       "    <tr>\n",
       "      <th>1</th>\n",
       "      <td>0</td>\n",
       "      <td>172</td>\n",
       "      <td>5</td>\n",
       "    </tr>\n",
       "    <tr>\n",
       "      <th>2</th>\n",
       "      <td>0</td>\n",
       "      <td>133</td>\n",
       "      <td>1</td>\n",
       "    </tr>\n",
       "    <tr>\n",
       "      <th>3</th>\n",
       "      <td>196</td>\n",
       "      <td>242</td>\n",
       "      <td>3</td>\n",
       "    </tr>\n",
       "    <tr>\n",
       "      <th>4</th>\n",
       "      <td>186</td>\n",
       "      <td>302</td>\n",
       "      <td>3</td>\n",
       "    </tr>\n",
       "  </tbody>\n",
       "</table>\n",
       "</div>"
      ],
      "text/plain": [
       "   user_id  movie_id  rating\n",
       "0        0        50       5\n",
       "1        0       172       5\n",
       "2        0       133       1\n",
       "3      196       242       3\n",
       "4      186       302       3"
      ]
     },
     "execution_count": 4,
     "metadata": {},
     "output_type": "execute_result"
    }
   ],
   "source": [
    "import pandas as pd\n",
    "import numpy as np\n",
    "import operator\n",
    "\n",
    "movie_ratings = pd.read_csv('ml-100k/u.data', sep = '\\t', names = ['user_id', 'movie_id', 'rating'], usecols = range(3))\n",
    "movie_ratings.head()"
   ]
  },
  {
   "cell_type": "code",
   "execution_count": 12,
   "metadata": {},
   "outputs": [
    {
     "data": {
      "text/html": [
       "<div>\n",
       "<style>\n",
       "    .dataframe thead tr:only-child th {\n",
       "        text-align: right;\n",
       "    }\n",
       "\n",
       "    .dataframe thead th {\n",
       "        text-align: left;\n",
       "    }\n",
       "\n",
       "    .dataframe tbody tr th {\n",
       "        vertical-align: top;\n",
       "    }\n",
       "</style>\n",
       "<table border=\"1\" class=\"dataframe\">\n",
       "  <thead>\n",
       "    <tr>\n",
       "      <th></th>\n",
       "      <th colspan=\"2\" halign=\"left\">rating</th>\n",
       "    </tr>\n",
       "    <tr>\n",
       "      <th></th>\n",
       "      <th>size</th>\n",
       "      <th>mean</th>\n",
       "    </tr>\n",
       "    <tr>\n",
       "      <th>movie_id</th>\n",
       "      <th></th>\n",
       "      <th></th>\n",
       "    </tr>\n",
       "  </thead>\n",
       "  <tbody>\n",
       "    <tr>\n",
       "      <th>1</th>\n",
       "      <td>452</td>\n",
       "      <td>3.878319</td>\n",
       "    </tr>\n",
       "    <tr>\n",
       "      <th>2</th>\n",
       "      <td>131</td>\n",
       "      <td>3.206107</td>\n",
       "    </tr>\n",
       "    <tr>\n",
       "      <th>3</th>\n",
       "      <td>90</td>\n",
       "      <td>3.033333</td>\n",
       "    </tr>\n",
       "    <tr>\n",
       "      <th>4</th>\n",
       "      <td>209</td>\n",
       "      <td>3.550239</td>\n",
       "    </tr>\n",
       "    <tr>\n",
       "      <th>5</th>\n",
       "      <td>86</td>\n",
       "      <td>3.302326</td>\n",
       "    </tr>\n",
       "  </tbody>\n",
       "</table>\n",
       "</div>"
      ],
      "text/plain": [
       "         rating          \n",
       "           size      mean\n",
       "movie_id                 \n",
       "1           452  3.878319\n",
       "2           131  3.206107\n",
       "3            90  3.033333\n",
       "4           209  3.550239\n",
       "5            86  3.302326"
      ]
     },
     "execution_count": 12,
     "metadata": {},
     "output_type": "execute_result"
    }
   ],
   "source": [
    "# The groupby() function allows us to group records into buckets by movie ID in this dataset. \n",
    "# agg - aggregate Here we are trying to calc for each movie from the rating column alone: number of ratings & mean ratings/movie\n",
    "\n",
    "rating_distribution = movie_ratings.groupby('movie_id').agg({'rating': [np.size, np.mean]}) \n",
    "rating_distribution.head()"
   ]
  },
  {
   "cell_type": "code",
   "execution_count": 13,
   "metadata": {},
   "outputs": [
    {
     "data": {
      "text/html": [
       "<div>\n",
       "<style>\n",
       "    .dataframe thead tr:only-child th {\n",
       "        text-align: right;\n",
       "    }\n",
       "\n",
       "    .dataframe thead th {\n",
       "        text-align: left;\n",
       "    }\n",
       "\n",
       "    .dataframe tbody tr th {\n",
       "        vertical-align: top;\n",
       "    }\n",
       "</style>\n",
       "<table border=\"1\" class=\"dataframe\">\n",
       "  <thead>\n",
       "    <tr style=\"text-align: right;\">\n",
       "      <th></th>\n",
       "      <th>size</th>\n",
       "    </tr>\n",
       "    <tr>\n",
       "      <th>movie_id</th>\n",
       "      <th></th>\n",
       "    </tr>\n",
       "  </thead>\n",
       "  <tbody>\n",
       "    <tr>\n",
       "      <th>1</th>\n",
       "      <td>0.773585</td>\n",
       "    </tr>\n",
       "    <tr>\n",
       "      <th>2</th>\n",
       "      <td>0.222985</td>\n",
       "    </tr>\n",
       "    <tr>\n",
       "      <th>3</th>\n",
       "      <td>0.152659</td>\n",
       "    </tr>\n",
       "    <tr>\n",
       "      <th>4</th>\n",
       "      <td>0.356775</td>\n",
       "    </tr>\n",
       "    <tr>\n",
       "      <th>5</th>\n",
       "      <td>0.145798</td>\n",
       "    </tr>\n",
       "  </tbody>\n",
       "</table>\n",
       "</div>"
      ],
      "text/plain": [
       "              size\n",
       "movie_id          \n",
       "1         0.773585\n",
       "2         0.222985\n",
       "3         0.152659\n",
       "4         0.356775\n",
       "5         0.145798"
      ]
     },
     "execution_count": 13,
     "metadata": {},
     "output_type": "execute_result"
    }
   ],
   "source": [
    "rating_size = pd.DataFrame(rating_distribution['rating']['size'])\n",
    "\n",
    "# normalize the Size between 0 and 1 - to know the popularity of the movie\n",
    "ratings_normalized = rating_size.apply(lambda x: (x - np.min(x)) / (np.max(x) - np.min(x)))\n",
    "ratings_normalized.sort_index().head(5)"
   ]
  },
  {
   "cell_type": "markdown",
   "metadata": {},
   "source": [
    "## Extracting required information from dataset\n",
    "Construct a dict with the necessary columns alone: movie name, list of genre values, the popularity score and average rating/movie"
   ]
  },
  {
   "cell_type": "code",
   "execution_count": 17,
   "metadata": {},
   "outputs": [
    {
     "name": "stdout",
     "output_type": "stream",
     "text": [
      "('Welcome to the Dollhouse (1995)', array([0, 0, 0, 0, 0, 1, 0, 0, 1, 0, 0, 0, 0, 0, 0, 0, 0, 0, 0]), 0.19039451114922812, 3.7232142857142856)\n"
     ]
    }
   ],
   "source": [
    "movie_details = {} \n",
    "with open('ml-100k/u.item') as f:\n",
    "    for line in f:\n",
    "        fields = line.rstrip('\\n').split('|')\n",
    "        movieID = int(fields[0])\n",
    "        name = fields[1]\n",
    "        genres = fields[5:25]\n",
    "        genres = np.array(genres,dtype=int) # to convert generes values into int datatype\n",
    "        \n",
    "        movie_details[movieID] = (name, genres, ratings_normalized.loc[movieID].get('size'),\n",
    "                              rating_distribution.loc[movieID].rating.get('mean'))\n",
    "print (movie_details[93])"
   ]
  },
  {
   "cell_type": "markdown",
   "metadata": {},
   "source": [
    "### Understanding Movie distribution across all generes"
   ]
  },
  {
   "cell_type": "code",
   "execution_count": 18,
   "metadata": {},
   "outputs": [
    {
     "name": "stdout",
     "output_type": "stream",
     "text": [
      "[   2.  251.  135.   42.  122.  505.  109.   50.  725.   22.   24.   92.\n",
      "   56.   61.  247.  101.  251.   71.   27.]\n",
      "\n",
      "Maximum number of Movies are in genre: Drama\n"
     ]
    }
   ],
   "source": [
    "genres = ['unknown','Action','Adventure','Animation','Children','Comedy','Crime','Documentary','Drama','Fantasy','Film-Noir','Horror','Musical','Mystery','Romance','Sci-Fi','Thriller','War','Western']\n",
    "no_of_genres = len(genres)\n",
    "genre_count = np.zeros(no_of_genres)\n",
    "#print((avg_genre).shape)\n",
    "\n",
    "for movie in movie_details:\n",
    "    genre_count += movie_details[movie][1]\n",
    "\n",
    "print(genre_count)\n",
    "print(\"\\nMaximum number of Movies are in genre:\" , genres[genre_count.argmax()])"
   ]
  },
  {
   "cell_type": "markdown",
   "metadata": {},
   "source": [
    "### Finding average rating of each Genre"
   ]
  },
  {
   "cell_type": "code",
   "execution_count": 24,
   "metadata": {},
   "outputs": [
    {
     "name": "stdout",
     "output_type": "stream",
     "text": [
      "Musical 3.70363230667\n",
      "Horror 3.30616882071\n",
      "Documentary 3.15603289163\n",
      "Thriller 3.0608606536\n",
      "Comedy 2.94457053992\n",
      "Action 2.94067225124\n",
      "Film-Noir 2.85803248676\n",
      "Adventure 2.76615827069\n",
      "Children 2.75575773717\n",
      "Animation 2.53847001208\n",
      "Sci-Fi 2.47042153574\n",
      "Drama 2.46729533135\n",
      "Fantasy 2.425141849\n",
      "Romance 2.41425331565\n",
      "Crime 2.32947823797\n",
      "War 2.23907497276\n",
      "Mystery 2.0172779256\n",
      "Western 1.80085452767\n",
      "unknown 1.36111111111\n"
     ]
    }
   ],
   "source": [
    "avg_genre = np.zeros(no_of_genres)\n",
    "# Find the average rating for each genre\n",
    "for movie in movie_details:\n",
    "    for i in range(no_of_genres):\n",
    "        if(movie_details[movie][1][i] == True):\n",
    "            avg_genre[i] = ((avg_genre[i] + movie_details[movie][3])/2)\n",
    "\n",
    "# Construct a dictionary to store keys (Genre names) and values (Avg. Genre ratings)\n",
    "print_genre = {}\n",
    "for i in range(no_of_genres):\n",
    "    print_genre[genres[i]] = avg_genre[i]\n",
    "\n",
    "# Print the sorted Dicitonary \n",
    "for k,v in sorted(print_genre.items(), key = operator.itemgetter(1), reverse = True):\n",
    "    print (k,v)\n",
    "    \n",
    "# Print Dicitonary legibly:\n",
    "#import pprint\n",
    "#pprint.pprint(print_genre, width = 1)"
   ]
  },
  {
   "cell_type": "markdown",
   "metadata": {},
   "source": [
    "#### Plotting the data"
   ]
  },
  {
   "cell_type": "code",
   "execution_count": 20,
   "metadata": {},
   "outputs": [
    {
     "name": "stdout",
     "output_type": "stream",
     "text": [
      "['unknown', 'Action', 'Adventure', 'Animation', 'Children', 'Comedy', 'Crime', 'Documentary', 'Drama', 'Fantasy', 'Film-Noir', 'Horror', 'Musical', 'Mystery', 'Romance', 'Sci-Fi', 'Thriller', 'War', 'Western']\n"
     ]
    },
    {
     "data": {
      "image/png": "[encoded data removed]",
      "text/plain": [
       "<matplotlib.figure.Figure at 0x1bc619aa358>"
      ]
     },
     "metadata": {},
     "output_type": "display_data"
    }
   ],
   "source": [
    "import matplotlib.pyplot as plt\n",
    "%matplotlib inline\n",
    "\n",
    "x = np.arange(len(print_genre))\n",
    "y = list(print_genre.values())\n",
    "\n",
    "plt.bar(x, y, align=\"center\")\n",
    "plt.xticks(x, range(no_of_genres))\n",
    "print (genres)"
   ]
  },
  {
   "cell_type": "markdown",
   "metadata": {},
   "source": [
    "## KNN on the movie dataset to find similar movies\n",
    "\n",
    "### Calculate the Euclidean distance between the movie points"
   ]
  },
  {
   "cell_type": "code",
   "execution_count": 23,
   "metadata": {},
   "outputs": [
    {
     "name": "stdout",
     "output_type": "stream",
     "text": [
      "('Alien (1979)', array([0, 1, 0, 0, 0, 0, 0, 0, 0, 0, 0, 1, 0, 0, 0, 1, 1, 0, 0]), 0.49742710120068612, 4.0343642611683848)\n",
      "('Jaws (1975)', array([0, 1, 0, 0, 0, 0, 0, 0, 0, 0, 0, 1, 0, 0, 0, 0, 0, 0, 0]), 0.47855917667238423, 3.7749999999999999)\n",
      "Euclidean Distance =  0.0 and Similarity =  1.0\n"
     ]
    }
   ],
   "source": [
    "import math\n",
    "\n",
    "def euclidean_distance(id1, id2):\n",
    "    genre1 = id1[1]\n",
    "    genre2 = id2[1]\n",
    "    \n",
    "    # zip function aggregates elements from lists (or other iterables, like strings) to return a list of tuples, \n",
    "    # such that zip([1,2,3], [4,5,6]) will return [(1,4), (2,5), (3,6)]- for quick computation\n",
    "    \n",
    "    points = zip(genre1, genre2)\n",
    "    squared_diff = [pow(x-y, 2) for (x,y) in points]\n",
    "    \n",
    "    return math.sqrt(sum(squared_diff))\n",
    "\n",
    "# To test the function\n",
    "\n",
    "print (movieDict[183])\n",
    "print (movieDict[234])\n",
    "\n",
    "euclideanDistance = euclidean_distance(movieDict[243], movieDict[259])\n",
    "Similarity = 1- euclideanDistance\n",
    "\n",
    "print (\"Euclidean Distance = \", euclideanDistance, \"and Similarity = \" ,Similarity)"
   ]
  },
  {
   "cell_type": "markdown",
   "metadata": {},
   "source": [
    "### Calculate the closest K neighbours from the Euclidean distances"
   ]
  },
  {
   "cell_type": "code",
   "execution_count": 32,
   "metadata": {},
   "outputs": [],
   "source": [
    "def getKNeighbours(id, K):\n",
    "    # Calculate Euclidean distance between given movie and every other movie\n",
    "    all_distances = [(movie, euclidean_distance(movie_details[id], movie_details[movie])) for movie in movie_details]\n",
    "    all_distances.sort(key = operator.itemgetter(1)) # sort it out by distances\n",
    "    \n",
    "    # range(1,K) - because first neighbour (index=0) is the movie itself, so start from 1\n",
    "    K_neighbours = [all_distances[x][0] for x in range(1,K)]\n",
    "    \n",
    "    return K_neighbours\n",
    "\n",
    "# To print out the list of neighbours' details\n",
    "def print_neighbours(test_movieid, K = 10):\n",
    "    \n",
    "    avgRating = 0\n",
    "\n",
    "    print (K, \"Neighbours of\", movie_details[test_movieid][0], \"(rating:\" , movie_details[test_movieid][3], \") are:\\n\")\n",
    "\n",
    "    neighbours = getKNeighbours(test_movieid, K)\n",
    "\n",
    "    for neighbour in neighbours:\n",
    "        avgRating += movie_details[neighbour][3] # to calculate Average Rating for all neighbours\n",
    "        print (movie_details[neighbour][0] + \" \" + str(movie_details[neighbour][3]))\n",
    "\n",
    "    print (\"Average Rating for all neighbours: \" , float(avgRating)/float(K))"
   ]
  },
  {
   "cell_type": "code",
   "execution_count": 33,
   "metadata": {},
   "outputs": [
    {
     "name": "stdout",
     "output_type": "stream",
     "text": [
      "10 Neighbours of Toy Story (1995) (rating: 3.87831858407 ) are:\n",
      "\n",
      "Aladdin and the King of Thieves (1996) 2.84615384615\n",
      "Santa Clause, The (1994) 3.09756097561\n",
      "Home Alone (1990) 3.08759124088\n",
      "Aladdin (1992) 3.81278538813\n",
      "Aristocats, The (1970) 3.12962962963\n",
      "D3: The Mighty Ducks (1996) 2.57894736842\n",
      "Love Bug, The (1969) 2.78\n",
      "Wrong Trousers, The (1993) 4.46610169492\n",
      "Grand Day Out, A (1992) 4.10606060606\n",
      "Average Rating for all neighbours:  2.9904830749793914\n"
     ]
    }
   ],
   "source": [
    "print_neighbours(1, 10)    "
   ]
  },
  {
   "cell_type": "code",
   "execution_count": 34,
   "metadata": {},
   "outputs": [
    {
     "name": "stdout",
     "output_type": "stream",
     "text": [
      "10 Neighbours of Frighteners, The (1996) (rating: 3.2347826087 ) are:\n",
      "\n",
      "Young Frankenstein (1974) 3.945\n",
      "Tales from the Hood (1995) 2.03703703704\n",
      "Howling, The (1981) 3.02631578947\n",
      "Braindead (1992) 3.85714285714\n",
      "Bad Taste (1987) 3.375\n",
      "April Fool's Day (1986) 2.66666666667\n",
      "Dracula: Dead and Loving It (1995) 2.28\n",
      "Cemetery Man (Dellamorte Dellamore) (1994) 2.86956521739\n",
      "Machine, The (1994) 1.5\n",
      "Average Rating for all neighbours:  2.555672756771155\n"
     ]
    }
   ],
   "source": [
    "print_neighbours(123, 10)"
   ]
  },
  {
   "cell_type": "code",
   "execution_count": null,
   "metadata": {
    "collapsed": true
   },
   "outputs": [],
   "source": []
  }
 ],
 "metadata": {
  "kernelspec": {
   "display_name": "Python 3",
   "language": "python",
   "name": "python3"
  },
  "language_info": {
   "codemirror_mode": {
    "name": "ipython",
    "version": 3
   },
   "file_extension": ".py",
   "mimetype": "text/x-python",
   "name": "python",
   "nbconvert_exporter": "python",
   "pygments_lexer": "ipython3",
   "version": "3.5.2"
  }
 },
 "nbformat": 4,
 "nbformat_minor": 2
}
